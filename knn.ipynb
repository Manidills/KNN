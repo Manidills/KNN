{
  "nbformat": 4,
  "nbformat_minor": 0,
  "metadata": {
    "colab": {
      "name": "Untitled12.ipynb",
      "provenance": []
    },
    "kernelspec": {
      "name": "python3",
      "display_name": "Python 3"
    },
    "accelerator": "TPU"
  },
  "cells": [
    {
      "cell_type": "code",
      "metadata": {
        "id": "lmALGvhUgAve",
        "colab_type": "code",
        "colab": {}
      },
      "source": [
        "import numpy as np\n",
        "import pandas as pd\n",
        "import seaborn as sns\n",
        "import matplotlib.pyplot as plt\n",
        "%matplotlib inline"
      ],
      "execution_count": 0,
      "outputs": []
    },
    {
      "cell_type": "code",
      "metadata": {
        "id": "-8UjD14KgZEQ",
        "colab_type": "code",
        "colab": {}
      },
      "source": [
        "from sklearn import datasets\n",
        "data= datasets.load_wine()"
      ],
      "execution_count": 0,
      "outputs": []
    },
    {
      "cell_type": "code",
      "metadata": {
        "id": "RZbmQ_H6g6i4",
        "colab_type": "code",
        "colab": {
          "base_uri": "https://localhost:8080/",
          "height": 243
        },
        "outputId": "3d35ad88-1681-4e2a-e6b6-c1d8e6d3057e"
      },
      "source": [
        "data.data\n"
      ],
      "execution_count": 11,
      "outputs": [
        {
          "output_type": "execute_result",
          "data": {
            "text/plain": [
              "array([[1.423e+01, 1.710e+00, 2.430e+00, ..., 1.040e+00, 3.920e+00,\n",
              "        1.065e+03],\n",
              "       [1.320e+01, 1.780e+00, 2.140e+00, ..., 1.050e+00, 3.400e+00,\n",
              "        1.050e+03],\n",
              "       [1.316e+01, 2.360e+00, 2.670e+00, ..., 1.030e+00, 3.170e+00,\n",
              "        1.185e+03],\n",
              "       ...,\n",
              "       [1.327e+01, 4.280e+00, 2.260e+00, ..., 5.900e-01, 1.560e+00,\n",
              "        8.350e+02],\n",
              "       [1.317e+01, 2.590e+00, 2.370e+00, ..., 6.000e-01, 1.620e+00,\n",
              "        8.400e+02],\n",
              "       [1.413e+01, 4.100e+00, 2.740e+00, ..., 6.100e-01, 1.600e+00,\n",
              "        5.600e+02]])"
            ]
          },
          "metadata": {
            "tags": []
          },
          "execution_count": 11
        }
      ]
    },
    {
      "cell_type": "code",
      "metadata": {
        "id": "OGxmh_3dhAPf",
        "colab_type": "code",
        "colab": {
          "base_uri": "https://localhost:8080/",
          "height": 173
        },
        "outputId": "1a9a7c0f-a8af-4866-d44f-fda7430b95f6"
      },
      "source": [
        "data.target"
      ],
      "execution_count": 12,
      "outputs": [
        {
          "output_type": "execute_result",
          "data": {
            "text/plain": [
              "array([0, 0, 0, 0, 0, 0, 0, 0, 0, 0, 0, 0, 0, 0, 0, 0, 0, 0, 0, 0, 0, 0,\n",
              "       0, 0, 0, 0, 0, 0, 0, 0, 0, 0, 0, 0, 0, 0, 0, 0, 0, 0, 0, 0, 0, 0,\n",
              "       0, 0, 0, 0, 0, 0, 0, 0, 0, 0, 0, 0, 0, 0, 0, 1, 1, 1, 1, 1, 1, 1,\n",
              "       1, 1, 1, 1, 1, 1, 1, 1, 1, 1, 1, 1, 1, 1, 1, 1, 1, 1, 1, 1, 1, 1,\n",
              "       1, 1, 1, 1, 1, 1, 1, 1, 1, 1, 1, 1, 1, 1, 1, 1, 1, 1, 1, 1, 1, 1,\n",
              "       1, 1, 1, 1, 1, 1, 1, 1, 1, 1, 1, 1, 1, 1, 1, 1, 1, 1, 1, 1, 2, 2,\n",
              "       2, 2, 2, 2, 2, 2, 2, 2, 2, 2, 2, 2, 2, 2, 2, 2, 2, 2, 2, 2, 2, 2,\n",
              "       2, 2, 2, 2, 2, 2, 2, 2, 2, 2, 2, 2, 2, 2, 2, 2, 2, 2, 2, 2, 2, 2,\n",
              "       2, 2])"
            ]
          },
          "metadata": {
            "tags": []
          },
          "execution_count": 12
        }
      ]
    },
    {
      "cell_type": "code",
      "metadata": {
        "id": "dvdAe3X-hK48",
        "colab_type": "code",
        "colab": {
          "base_uri": "https://localhost:8080/",
          "height": 243
        },
        "outputId": "c629323f-86db-443b-dc3e-deec04219b42"
      },
      "source": [
        "data.feature_names"
      ],
      "execution_count": 13,
      "outputs": [
        {
          "output_type": "execute_result",
          "data": {
            "text/plain": [
              "['alcohol',\n",
              " 'malic_acid',\n",
              " 'ash',\n",
              " 'alcalinity_of_ash',\n",
              " 'magnesium',\n",
              " 'total_phenols',\n",
              " 'flavanoids',\n",
              " 'nonflavanoid_phenols',\n",
              " 'proanthocyanins',\n",
              " 'color_intensity',\n",
              " 'hue',\n",
              " 'od280/od315_of_diluted_wines',\n",
              " 'proline']"
            ]
          },
          "metadata": {
            "tags": []
          },
          "execution_count": 13
        }
      ]
    },
    {
      "cell_type": "code",
      "metadata": {
        "id": "rchO1xXphjf5",
        "colab_type": "code",
        "colab": {}
      },
      "source": [
        "x=data.data\n",
        "y=data.target"
      ],
      "execution_count": 0,
      "outputs": []
    },
    {
      "cell_type": "code",
      "metadata": {
        "id": "WRoeg_wahwIx",
        "colab_type": "code",
        "colab": {}
      },
      "source": [
        "from sklearn.model_selection import train_test_split\n",
        "from sklearn.neighbors import KNeighborsClassifier\n",
        "from sklearn import metrics"
      ],
      "execution_count": 0,
      "outputs": []
    },
    {
      "cell_type": "code",
      "metadata": {
        "id": "SI1oSqori18M",
        "colab_type": "code",
        "colab": {}
      },
      "source": [
        "from sklearn.preprocessing import StandardScaler"
      ],
      "execution_count": 0,
      "outputs": []
    },
    {
      "cell_type": "code",
      "metadata": {
        "id": "IyKxV7m1jcV1",
        "colab_type": "code",
        "colab": {}
      },
      "source": [
        "scaler= StandardScaler()\n",
        "fit= scaler.fit_transform(x)\n"
      ],
      "execution_count": 0,
      "outputs": []
    },
    {
      "cell_type": "code",
      "metadata": {
        "id": "zvP0Bl37jyUM",
        "colab_type": "code",
        "colab": {}
      },
      "source": [
        "from sklearn.model_selection import cross_val_score"
      ],
      "execution_count": 0,
      "outputs": []
    },
    {
      "cell_type": "code",
      "metadata": {
        "id": "Mp996NwakTLY",
        "colab_type": "code",
        "colab": {}
      },
      "source": [
        "n=list(range(1,50,2))\n",
        "cv=[]\n",
        "\n",
        "for k in n:\n",
        "    knn=KNeighborsClassifier(n_neighbors=k)\n",
        "    scores=cross_val_score(knn, fit, y, cv=10, scoring='accuracy')\n",
        "    cv.append(scores.mean())"
      ],
      "execution_count": 0,
      "outputs": []
    },
    {
      "cell_type": "code",
      "metadata": {
        "id": "Iat5121LljEw",
        "colab_type": "code",
        "colab": {
          "base_uri": "https://localhost:8080/",
          "height": 451
        },
        "outputId": "0ccc5fac-3165-4266-fbc3-940fb4685c3d"
      },
      "source": [
        "cv"
      ],
      "execution_count": 27,
      "outputs": [
        {
          "output_type": "execute_result",
          "data": {
            "text/plain": [
              "[0.9439735982112143,\n",
              " 0.954499914000688,\n",
              " 0.9666322669418644,\n",
              " 0.9663398692810456,\n",
              " 0.97218782249742,\n",
              " 0.9718954248366012,\n",
              " 0.9666322669418644,\n",
              " 0.9666322669418644,\n",
              " 0.9725146198830409,\n",
              " 0.9725146198830409,\n",
              " 0.9725146198830409,\n",
              " 0.9833333333333334,\n",
              " 0.9718954248366012,\n",
              " 0.9660130718954247,\n",
              " 0.9660130718954247,\n",
              " 0.9660130718954247,\n",
              " 0.9718954248366012,\n",
              " 0.9718954248366012,\n",
              " 0.9718954248366012,\n",
              " 0.9663398692810456,\n",
              " 0.9610767113863089,\n",
              " 0.9610767113863089,\n",
              " 0.9551943584451325,\n",
              " 0.9551943584451325,\n",
              " 0.9551943584451325]"
            ]
          },
          "metadata": {
            "tags": []
          },
          "execution_count": 27
        }
      ]
    },
    {
      "cell_type": "code",
      "metadata": {
        "id": "uXNv8mbplki7",
        "colab_type": "code",
        "colab": {
          "base_uri": "https://localhost:8080/",
          "height": 451
        },
        "outputId": "58ef11da-b731-4c80-a9d4-0e140f73a8e5"
      },
      "source": [
        "mse = [1- x for x in cv] \n",
        "mse\n"
      ],
      "execution_count": 28,
      "outputs": [
        {
          "output_type": "execute_result",
          "data": {
            "text/plain": [
              "[0.05602640178878571,\n",
              " 0.04550008599931199,\n",
              " 0.03336773305813556,\n",
              " 0.03366013071895435,\n",
              " 0.027812177502580027,\n",
              " 0.028104575163398815,\n",
              " 0.03336773305813556,\n",
              " 0.03336773305813556,\n",
              " 0.027485380116959113,\n",
              " 0.027485380116959113,\n",
              " 0.027485380116959113,\n",
              " 0.016666666666666607,\n",
              " 0.028104575163398815,\n",
              " 0.033986928104575265,\n",
              " 0.033986928104575265,\n",
              " 0.033986928104575265,\n",
              " 0.028104575163398815,\n",
              " 0.028104575163398815,\n",
              " 0.028104575163398815,\n",
              " 0.03366013071895435,\n",
              " 0.0389232886136911,\n",
              " 0.0389232886136911,\n",
              " 0.04480564155486755,\n",
              " 0.04480564155486755,\n",
              " 0.04480564155486755]"
            ]
          },
          "metadata": {
            "tags": []
          },
          "execution_count": 28
        }
      ]
    },
    {
      "cell_type": "code",
      "metadata": {
        "id": "nwfcHsTllv2m",
        "colab_type": "code",
        "colab": {}
      },
      "source": [
        "optimal = n[mse.index(min(mse))]"
      ],
      "execution_count": 0,
      "outputs": []
    },
    {
      "cell_type": "code",
      "metadata": {
        "id": "hIiU8lBfl6Jv",
        "colab_type": "code",
        "colab": {
          "base_uri": "https://localhost:8080/",
          "height": 34
        },
        "outputId": "d376ca58-0f67-4cbd-c16a-9710e8e077c8"
      },
      "source": [
        "optimal"
      ],
      "execution_count": 35,
      "outputs": [
        {
          "output_type": "execute_result",
          "data": {
            "text/plain": [
              "23"
            ]
          },
          "metadata": {
            "tags": []
          },
          "execution_count": 35
        }
      ]
    },
    {
      "cell_type": "code",
      "metadata": {
        "id": "nyMzFHSZmXKH",
        "colab_type": "code",
        "colab": {
          "base_uri": "https://localhost:8080/",
          "height": 69
        },
        "outputId": "b1232c59-621d-4878-bbcc-14a523dc3ab7"
      },
      "source": [
        "X_train,X_test,y_train,y_test= train_test_split(fit,y, test_size = 0.3, random_state = 42)\n",
        "\n",
        "knn=KNeighborsClassifier(n_neighbors=23)\n",
        "knn.fit(X_train,y_train)"
      ],
      "execution_count": 36,
      "outputs": [
        {
          "output_type": "execute_result",
          "data": {
            "text/plain": [
              "KNeighborsClassifier(algorithm='auto', leaf_size=30, metric='minkowski',\n",
              "                     metric_params=None, n_jobs=None, n_neighbors=23, p=2,\n",
              "                     weights='uniform')"
            ]
          },
          "metadata": {
            "tags": []
          },
          "execution_count": 36
        }
      ]
    },
    {
      "cell_type": "code",
      "metadata": {
        "id": "3ylwdrgOnybn",
        "colab_type": "code",
        "colab": {}
      },
      "source": [
        "predict=knn.predict(X_test)"
      ],
      "execution_count": 0,
      "outputs": []
    },
    {
      "cell_type": "code",
      "metadata": {
        "id": "Q29Z81lqn5KA",
        "colab_type": "code",
        "colab": {
          "base_uri": "https://localhost:8080/",
          "height": 34
        },
        "outputId": "cbc87298-4a10-4f19-ec1b-ed0e1bca3460"
      },
      "source": [
        "print('Accuracy: ', metrics.accuracy_score(y_test, predict))\n"
      ],
      "execution_count": 38,
      "outputs": [
        {
          "output_type": "stream",
          "text": [
            "Accuracy:  0.9814814814814815\n"
          ],
          "name": "stdout"
        }
      ]
    },
    {
      "cell_type": "code",
      "metadata": {
        "id": "x7NmSX4in_ah",
        "colab_type": "code",
        "colab": {}
      },
      "source": [
        ""
      ],
      "execution_count": 0,
      "outputs": []
    }
  ]
}